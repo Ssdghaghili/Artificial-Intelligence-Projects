{
 "cells": [
  {
   "cell_type": "markdown",
   "id": "8b6b30f3-4b04-46af-bfdb-818a0f05b5e1",
   "metadata": {},
   "source": [
    "<h5 style=\"color:#616D7E\">Mohammad Sadegh Aghili &nbsp&nbsp&nbsp&nbsp&nbsp&nbsp 810100274</h5>"
   ]
  },
  {
   "cell_type": "markdown",
   "id": "2c327926-16af-42c1-b636-ddc7d3b9ad13",
   "metadata": {},
   "source": [
    "# Curve Fitting"
   ]
  },
  {
   "cell_type": "markdown",
   "id": "1944f088-4605-40d3-ab80-a97cb91ace91",
   "metadata": {},
   "source": [
    "### Give the user inputs\n",
    "In this level of the code giving the inputs from user and defined variables."
   ]
  },
  {
   "cell_type": "code",
   "execution_count": 1,
   "id": "a4cfb9fb-9359-4cf3-8820-f7f15420d6da",
   "metadata": {},
   "outputs": [],
   "source": [
    "import random\n",
    "\n",
    "max_generations = 50\n",
    "desired_fitness = 1\n",
    "mutation_rate = 0.09\n",
    "population_size = 50"
   ]
  },
  {
   "cell_type": "code",
   "execution_count": null,
   "id": "84a5c5c4-80a5-405f-9880-4db7401ff746",
   "metadata": {},
   "outputs": [],
   "source": [
    "num_genes = int(input(\"Enter the degree: \"))+1\n",
    "\n",
    "# Range for random\n",
    "nums = [int(x) for x in input(\"Enter the Min & Max coefficient value: \").strip().split(\" \")]\n",
    "min_coeff_value = nums[0]\n",
    "max_coeff_value = nums[1]\n",
    "\n",
    "# giving the pionts from user input\n",
    "data_points = []\n",
    "a = int(input(\"Enter the number of points: \"))\n",
    "for i in range(a):\n",
    "    points = [int(x) for x in input(\"Enter the points: \").strip().split(\" \")]\n",
    "    data_points.append(points)"
   ]
  },
  {
   "cell_type": "markdown",
   "id": "35cf810b-bfce-451c-87d3-6d6aafc62882",
   "metadata": {},
   "source": [
    "### generating a population\n",
    "Start by generating a population of chromosomes with random coefficients for each gene."
   ]
  },
  {
   "cell_type": "code",
   "execution_count": null,
   "id": "631908a9-98c7-4454-8e2b-11ba957fe569",
   "metadata": {},
   "outputs": [],
   "source": [
    "population = []\n",
    "\n",
    "for _ in range(population_size):\n",
    "    chromosome = [random.randint(min_coeff_value, max_coeff_value) for _ in range(num_genes)]\n",
    "    population.append(chromosome)\n",
    "\n",
    "# print chromosomes\n",
    "# for i, chromosome in enumerate(population):\n",
    "#     print(f\"Chromosome {i + 1}: {chromosome}\")"
   ]
  },
  {
   "cell_type": "markdown",
   "id": "bbb4a291-d4f2-4d33-ac88-d86987e9ae84",
   "metadata": {},
   "source": [
    "### define the Fitness Function"
   ]
  },
  {
   "cell_type": "markdown",
   "id": "ab4588a6-b62a-4281-92d1-a4178fde7748",
   "metadata": {},
   "source": [
    "Initially calculate the 'y' of each chromosome in predicted_values and then calculate the mse, which is sum of the absolute of the deference between the each 'y' in predicted_values and the user given 'y' for each point.<br>Then we divide it by 1 so that the point with the smallest distance gets better fitness.(that +1 is for handling division if mse is equal to zero)"
   ]
  },
  {
   "cell_type": "code",
   "execution_count": 12,
   "id": "1536fded-f34b-4cbc-8413-2d369c927888",
   "metadata": {},
   "outputs": [],
   "source": [
    "def calculate_fitness(chromosome, data_points):\n",
    "    \n",
    "    predicted_values = [sum(chromosome[i] * data_point[0]**i for i in range(len(chromosome))) for data_point in data_points]\n",
    "\n",
    "    mse = sum(abs((predicted_values[i] - data_points[i][1])) for i in range(len(data_points)))\n",
    "    fitness = 1.0 / (mse + 1.0)\n",
    "    \n",
    "    return fitness"
   ]
  },
  {
   "cell_type": "markdown",
   "id": "4a8cf798-0f75-4e1a-90a4-9e0634ecd089",
   "metadata": {},
   "source": [
    "### Selection"
   ]
  },
  {
   "cell_type": "markdown",
   "id": "0a641520-1589-4c46-9634-7f944bd93f06",
   "metadata": {},
   "source": [
    "This part of the code will select chromosomes for the next generation based on their fitness values, following the principle of higher-fitness chromosomes having a higher chance of being selected.\n",
    "In the roulette wheel selection method, you imagine a roulette wheel where each slot on the wheel corresponds to a chromosome in the population. The size of each slot is proportional to the fitness of the corresponding chromosome. Chromosomes with higher fitness have larger slots, meaning they are more likely to be chosen, but there's still a chance for lower-fitness chromosomes to be selected."
   ]
  },
  {
   "cell_type": "code",
   "execution_count": 13,
   "id": "97415469-0df9-4243-8b44-8b16bb8ccc06",
   "metadata": {},
   "outputs": [],
   "source": [
    "def roulette_wheel_selection(population, fitness_scores):\n",
    "    selected_population = []\n",
    "    \n",
    "    total_fitness = sum(fitness_scores)\n",
    "    \n",
    "    selection_probabilities = [fitness / total_fitness for fitness in fitness_scores]\n",
    "    \n",
    "    for _ in range(len(population)):\n",
    "        selection_point = random.uniform(0, 1)\n",
    "\n",
    "        cumulative_probability = 0\n",
    "        for i, probability in enumerate(selection_probabilities):\n",
    "            cumulative_probability += probability\n",
    "            if cumulative_probability >= selection_point:\n",
    "                selected_population.append(population[i])\n",
    "                break\n",
    "\n",
    "    return selected_population"
   ]
  },
  {
   "cell_type": "markdown",
   "id": "bf6ad156-7cf7-4f65-a347-8f55f6f4b2e1",
   "metadata": {},
   "source": [
    "### Crosover"
   ]
  },
  {
   "cell_type": "markdown",
   "id": "d3f77929-7e95-4054-be84-e7b1c2ce8e79",
   "metadata": {},
   "source": [
    "Crossover involves combining genetic information from selected parent chromosomes to produce offspring chromosomes. In the context of curve fitting, crossover can help explore different combinations of polynomial coefficients. "
   ]
  },
  {
   "cell_type": "code",
   "execution_count": 14,
   "id": "74035c8a-01b5-4a17-87db-27fb29ec2eb6",
   "metadata": {},
   "outputs": [],
   "source": [
    "def single_point_crossover(parent1, parent2):\n",
    "    crossover_point = random.randint(1, len(parent1) - 1)\n",
    "    \n",
    "    offspring1 = parent1[:crossover_point] + parent2[crossover_point:]\n",
    "    offspring2 = parent2[:crossover_point] + parent1[crossover_point:]\n",
    "    \n",
    "    return offspring1, offspring2"
   ]
  },
  {
   "cell_type": "markdown",
   "id": "17d24b3a-41d9-48db-9310-93b731f08339",
   "metadata": {},
   "source": [
    "### Mutation"
   ]
  },
  {
   "cell_type": "markdown",
   "id": "44e07da4-42f2-4189-99ca-8279a9be1354",
   "metadata": {},
   "source": [
    "Mutations introduce small random changes to the genes within the chromosomes, helping to introduce genetic diversity into the population and prevent the algorithm from getting stuck in local optima."
   ]
  },
  {
   "cell_type": "code",
   "execution_count": 15,
   "id": "9736f6cd-61a9-41e9-8e5a-9e25b3814039",
   "metadata": {},
   "outputs": [],
   "source": [
    "def mutate_chromosome(chromosome, mutation_rate):\n",
    "    for i in range(len(chromosome)):\n",
    "        if random.random() < mutation_rate:\n",
    "            chromosome[i] = random.randint(min_coeff_value, max_coeff_value)\n",
    "    return chromosome"
   ]
  },
  {
   "cell_type": "markdown",
   "id": "c2170f49-611f-47aa-aacf-496106e149ae",
   "metadata": {},
   "source": [
    "### Main loop"
   ]
  },
  {
   "cell_type": "markdown",
   "id": "9456525e-47e6-4eed-a04b-bf0476b0fa68",
   "metadata": {},
   "source": [
    "In the main loop of your genetic algorithm, we perform the core steps of the algorithm to evolve and improve the population of candidate solutions (chromosomes) over multiple generations.\n",
    "The main loop is the heart of the genetic algorithm, where the evolutionary process takes place. It iteratively refines the population by selecting, recombining, and mutating chromosomes, ultimately converging toward better solutions according to your fitness function."
   ]
  },
  {
   "cell_type": "code",
   "execution_count": null,
   "id": "d7b75b96-0c77-4d4a-9e4d-54a20e49d2d2",
   "metadata": {
    "scrolled": true
   },
   "outputs": [],
   "source": [
    "for generation in range(max_generations):\n",
    "    # Calculate fitness for each chromosome\n",
    "    fitness_scores = [calculate_fitness(chromosome, data_points) for chromosome in population]\n",
    "\n",
    "    # Selection\n",
    "    selected_population = roulette_wheel_selection(population, fitness_scores)\n",
    "\n",
    "    # Crossover \n",
    "    offspring = []\n",
    "    for i in range(0, len(selected_population), 2):\n",
    "        if i + 1 < len(selected_population):\n",
    "            child1, child2 = single_point_crossover(selected_population[i], selected_population[i + 1])\n",
    "            offspring.append(child1)\n",
    "            offspring.append(child2)\n",
    "\n",
    "    # Mutation\n",
    "    for i in range(len(offspring)):\n",
    "        offspring[i] = mutate_chromosome(offspring[i], mutation_rate)\n",
    "\n",
    "    # Evaluate fitness of the mutated offspring\n",
    "    offspring_fitness_scores = [calculate_fitness(chromosome, data_points) for chromosome in offspring]\n",
    "\n",
    "    # Combine and sort selected population and offspring to create a new generation\n",
    "    new_population = selected_population + offspring\n",
    "    for chromosome in new_population:\n",
    "        new_fitness_scores = [calculate_fitness(chromosome, data_points)]\n",
    "\n",
    "    # Check for the answer\n",
    "    if max(fitness_scores) == desired_fitness:\n",
    "       best_chromosome = population[fitness_scores.index(max(fitness_scores))]\n",
    "       print(\"Solution:\", best_chromosome)\n",
    "       break        \n",
    "\n",
    "    # Set the new generation as the population for the next iteration\n",
    "    population = new_population\n",
    "    fitness_scores = new_fitness_scores"
   ]
  },
  {
   "cell_type": "markdown",
   "id": "3a8f833f-a66b-4b0f-9470-dd8c08461ba3",
   "metadata": {},
   "source": [
    "## Questions:"
   ]
  },
  {
   "cell_type": "markdown",
   "id": "07e25e1f-1230-45fa-933d-3f1a40d709fa",
   "metadata": {
    "jp-MarkdownHeadingCollapsed": true
   },
   "source": [
    "<h4 style=\"color:#838996\">1. What problems do a very small or very large initial population cause?</h4>"
   ]
  },
  {
   "cell_type": "markdown",
   "id": "0b1dc43c-98b8-43c5-9bd8-852e46428e22",
   "metadata": {},
   "source": [
    "The size of the initial population in a genetic algorithm is crucial for its performance. A very small population may lack diversity, converge prematurely, and be sensitive to initial conditions. Conversely, a very large population can strain computational resources, introduce redundancy, and increase running time."
   ]
  },
  {
   "cell_type": "markdown",
   "id": "cac3e5dd-f52a-42c8-aa14-827df3fa3b1e",
   "metadata": {},
   "source": [
    "<h4 style=\"color:#838996\">2. If the number of population increases in each period, what effect does it have on the accuracy and speed of the algorithm?</h4>"
   ]
  },
  {
   "cell_type": "markdown",
   "id": "7c4401af-8deb-457b-8d0f-62dff484e9e2",
   "metadata": {},
   "source": [
    "Increasing the population size in each generation of a genetic algorithm can improve accuracy by enhancing diversity and avoiding premature convergence. However, it may slow down the algorithm significantly and exhibit diminishing returns in terms of accuracy as the population size grows very large."
   ]
  },
  {
   "cell_type": "markdown",
   "id": "318cbed0-7cd7-4175-882a-27ee42bd0a36",
   "metadata": {},
   "source": [
    "<h4 style=\"color:#838996\">3. State and compare the effects of each of the crossover and mutation operations. Is it possible to use only one of them? Why?</h4>"
   ]
  },
  {
   "cell_type": "markdown",
   "id": "7431f18a-6074-49d6-9c91-d3cd4d8bf4bd",
   "metadata": {},
   "source": [
    "Using only one of these operations is generally not recommended because it may lead to a lack of diversity (crossover alone) or While mutation introduces randomness, it does so in small, random steps. It might take a very long time for the algorithm to explore and find good solutions without leveraging the benefits of crossover. (mutation alone). The combined use of both operations strikes a balance between recombination and exploration, enhancing the algorithm's efficiency and effectiveness.\n",
    "here's the effects of Crossover and Mutation:<br>\n",
    "<b>Crossover:</b><br>\n",
    "    -Purpose: Combines genetic material from two parents to create offspring.<br>\n",
    "    -Effect: Increases diversity, encourages convergence toward better solutions.<br>\n",
    "    -Use Cases: Effective for recombining good features from different solutions.<br>\n",
    "<b>Mutation:</b><br>\n",
    "    -Purpose: Introduces small, random changes to maintain diversity and exploration.<br>\n",
    "    -Effect: Adds randomness, helps escape local optima, explores new regions.<br>\n",
    "    -Use Cases: Valuable for complex search spaces and exploration.<br>"
   ]
  },
  {
   "cell_type": "markdown",
   "id": "728c9d1b-729a-4c58-a4da-419ce5fdc7ab",
   "metadata": {},
   "source": [
    "<h4 style=\"color:#838996\">4. In your opinion, what solutions are there to get a faster solution to this particular problem?</h4>"
   ]
  },
  {
   "cell_type": "markdown",
   "id": "6035ad4d-a84b-466e-a9ae-2baaa058020a",
   "metadata": {},
   "source": [
    "To achieve a faster solution in the curve fitting problem using a genetic algorithm, consider the following strategies:<br>\n",
    "-Parallelize computations and use vectorization for speed.<br>\n",
    "-Implement dynamic population sizing for efficient exploration.<br>\n",
    "-Use an approximated fitness function when exact evaluation is slow.<br>\n",
    "-Experiment with mutation rates for the right balance.<br>\n",
    "-Apply early termination based on convergence criteria.<br>\n",
    "-Utilize smart initialization and problem-specific knowledge.<br>\n",
    "-Consider GPU computing and hardware acceleration.<br>\n",
    "-Employ dimensionality reduction for high-dimensional problems.<br>\n",
    "-Combine with other algorithms or libraries for optimization.<br>\n",
    "-Systematically tune algorithm parameters for better performance.<br>"
   ]
  },
  {
   "cell_type": "markdown",
   "id": "12d188d8-5d74-45b1-9969-e6c48856de30",
   "metadata": {},
   "source": [
    "<h4 style=\"color:#838996\">5. Despite the use of these methods, it is still possible that the chromosomes will not change after several steps. Explain the reason for this and the problems it causes. What do you suggest to solve it?</h4>"
   ]
  },
  {
   "cell_type": "markdown",
   "id": "931c3d58-b0e6-4f6d-a2ee-c488e4cba67d",
   "metadata": {},
   "source": [
    "Stagnation in a genetic algorithm, where chromosomes remain unchanged for multiple generations, can lead to slow convergence and difficulties in finding optimal solutions. To overcome stagnation, consider strategies such as <b>increasing mutation rates</b>, <?<b>diversifying selection mechanisms</b>, <b>implementing restart strategies</b>, <b>using adaptive approaches</b>, <b>employing hybrid algorithms</b> and <b>improving initialization techniques</b>. These measures aim to introduce diversity, promote exploration, and prevent the algorithm from getting stuck in local optima."
   ]
  },
  {
   "cell_type": "markdown",
   "id": "dc782e40-7942-494f-8dc5-9c5906e9099f",
   "metadata": {},
   "source": [
    "<h4 style=\"color:#838996\">6. What solution do you suggest to finish the program if the problem is not answered?</h4>"
   ]
  },
  {
   "cell_type": "markdown",
   "id": "46d0813d-09c1-4019-8692-eaeda4f70eab",
   "metadata": {},
   "source": [
    "To conclude a genetic algorithm if it doesn't yield a satisfactory solution, consider implementing termination conditions such as a maximum generation limit, convergence monitoring, user intervention, a time limit, statistical significance, or restarting with adjusted parameters."
   ]
  },
  {
   "cell_type": "markdown",
   "id": "dd7bb90d-f654-4f6a-996f-c2a8148fd26a",
   "metadata": {},
   "source": [
    "<h4 style=\"color:#838996\">7. As the polynomial degree increases, how does the time to find the coefficients change?</h4>"
   ]
  },
  {
   "cell_type": "markdown",
   "id": "f7c26997-e285-4433-a672-3a54799c0a6e",
   "metadata": {},
   "source": [
    "As the polynomial degree increases, the time to find the coefficients using a genetic algorithm generally increases significantly (increases exponentially) due to the larger search space, greater computational complexity, more generations needed for optimization, and potentially slower convergence."
   ]
  },
  {
   "cell_type": "markdown",
   "id": "3e91c01a-bd0f-4724-a803-e134aa7d6337",
   "metadata": {},
   "source": [
    "<h4 style=\"color:#838996\">8. In your opinion, how does increasing or decreasing the number of points affect the implementation of the algorithm?</h4>"
   ]
  },
  {
   "cell_type": "markdown",
   "id": "0d9e2cc3-d153-4bd0-9c20-79fb36129c12",
   "metadata": {},
   "source": [
    "The number of data points in the curve fitting problem has a significant impact on the genetic algorithm implementation:<br>\n",
    "<b>Increasing Data Points:</b><br>\n",
    "  -Increases complexity and computational demands.<br>\n",
    "  -Expands the search space and may require more generations.<br>\n",
    "  -Slows down convergence and increases computation time.<br>\n",
    "  -Demands greater computational resources.<br>\n",
    "  \n",
    "<b>Decreasing Data Points:</b><br>\n",
    "-Simplifies the problem and reduces computational demands.<br>\n",
    "-May lead to faster convergence and resource efficiency.<br>\n",
    "-Poses a risk of overfitting to the data, which needs to be addressed.<br>"
   ]
  }
 ],
 "metadata": {
  "kernelspec": {
   "display_name": "Python 3 (ipykernel)",
   "language": "python",
   "name": "python3"
  },
  "language_info": {
   "codemirror_mode": {
    "name": "ipython",
    "version": 3
   },
   "file_extension": ".py",
   "mimetype": "text/x-python",
   "name": "python",
   "nbconvert_exporter": "python",
   "pygments_lexer": "ipython3",
   "version": "3.10.6"
  }
 },
 "nbformat": 4,
 "nbformat_minor": 5
}
